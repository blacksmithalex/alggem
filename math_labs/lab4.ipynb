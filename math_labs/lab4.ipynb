{
 "cells": [
  {
   "cell_type": "markdown",
   "id": "9485a67e-6b84-4b76-99ee-1a98397492c6",
   "metadata": {},
   "source": [
    "## Упражнение С1"
   ]
  },
  {
   "cell_type": "code",
   "execution_count": 6,
   "id": "13735e44-aaa8-4891-9e39-500b85acb0ad",
   "metadata": {},
   "outputs": [
    {
     "name": "stdout",
     "output_type": "stream",
     "text": [
      "Задача 1: Корни sqrt[8]{-256}\n",
      "Все корни: [(1.8477590650225735+0.7653668647301796j), (0.7653668647301797+1.8477590650225735j), (-0.7653668647301795+1.8477590650225735j), (-1.8477590650225735+0.7653668647301798j), (-1.8477590650225737-0.7653668647301793j), (-0.7653668647301807-1.847759065022573j), (0.76536686473018-1.8477590650225733j), (1.847759065022573-0.7653668647301808j)]\n",
      "Точки в левой полуплоскости: [(-0.7653668647301795+1.8477590650225735j), (-1.8477590650225735+0.7653668647301798j), (-1.8477590650225737-0.7653668647301793j), (-0.7653668647301807-1.847759065022573j)]\n",
      "Точки на действительной оси: []\n",
      "Точки с аргументом > 2π/3: [(-1.8477590650225735+0.7653668647301798j)]\n"
     ]
    }
   ],
   "source": [
    "import numpy as np\n",
    "import matplotlib.pyplot as plt\n",
    "\n",
    "# Задача 1: Корни sqrt[8]{-256}\n",
    "n = 8\n",
    "r = 256**(1/n)  # Модуль корней\n",
    "phi = np.pi  # Аргумент числа -256\n",
    "roots = [r * np.exp(1j * (phi + 2 * np.pi * k) / n) for k in range(n)]\n",
    "\n",
    "# 1.1 Точки в левой полуплоскости (Re(z) < 0)\n",
    "roots_left = [z for z in roots if z.real < 0]\n",
    "\n",
    "# 1.2 Точки на действительной оси (Im(z) == 0)\n",
    "roots_real_axis = [z for z in roots if np.isclose(z.imag, 0)]\n",
    "\n",
    "# 1.3 Точки с аргументом Arg(z) > 2π/3\n",
    "roots_large_arg = [z for z in roots if np.angle(z) > 2 * np.pi / 3]\n",
    "\n",
    "print(\"Задача 1: Корни sqrt[8]{-256}\")\n",
    "print(\"Все корни:\", roots)\n",
    "print(\"Точки в левой полуплоскости:\", roots_left)\n",
    "print(\"Точки на действительной оси:\", roots_real_axis)\n",
    "print(\"Точки с аргументом > 2π/3:\", roots_large_arg)"
   ]
  },
  {
   "cell_type": "markdown",
   "id": "94eeeb06-5545-45e6-bb9c-977449e16c54",
   "metadata": {},
   "source": [
    "## Упражнение С2"
   ]
  },
  {
   "cell_type": "code",
   "execution_count": 8,
   "id": "0066e1c2-34f8-406a-83d9-614601609098",
   "metadata": {},
   "outputs": [
    {
     "name": "stdout",
     "output_type": "stream",
     "text": [
      "\n",
      "Задача 2: Проверка утверждений\n",
      "Утверждение 1 (5 <= |z1| < 6): False\n",
      "Утверждение 2 (только одно число |z| < 4): True\n"
     ]
    }
   ],
   "source": [
    "# Задача 2: Проверка утверждений для z1 и z2\n",
    "z1 = 2 - 3j\n",
    "z2 = 5 + 1j\n",
    "\n",
    "# 2.1 5 <= |z1| < 6\n",
    "condition_1 = 5 <= abs(z1) < 6\n",
    "\n",
    "# 2.2 Только одно из чисел |z1| или |z2| < 4\n",
    "condition_2 = (abs(z1) < 4) != (abs(z2) < 4)\n",
    "\n",
    "print(\"\\nЗадача 2: Проверка утверждений\")\n",
    "print(\"Утверждение 1 (5 <= |z1| < 6):\", condition_1)\n",
    "print(\"Утверждение 2 (только одно число |z| < 4):\", condition_2)"
   ]
  },
  {
   "cell_type": "markdown",
   "id": "4ab576f2-f8a8-449e-9cfb-3aa360e36bf9",
   "metadata": {},
   "source": [
    "## Упражнение С3"
   ]
  },
  {
   "cell_type": "code",
   "execution_count": 10,
   "id": "cf3a19c7-ab77-480f-bd72-b3e1d1252848",
   "metadata": {},
   "outputs": [
    {
     "name": "stdout",
     "output_type": "stream",
     "text": [
      "\n",
      "Задача 3: Отбор элементов массива\n",
      "Элементы с Re(z) > 2: [  28.+9.6000e+01j  316.+1.2000e+01j  352.-9.3600e+02j 7696.+3.0672e+04j]\n",
      "Элементы с Im(z) <= Re(z): [  1.  -3.j 316. +12.j 352.-936.j]\n"
     ]
    }
   ],
   "source": [
    "# Задача 3: Массив (1 - 3i)^k\n",
    "k = np.arange(1, 10)\n",
    "array_3 = (1 - 3j)**k\n",
    "\n",
    "# 3.1 Re(z) > 2\n",
    "condition_3_1 = array_3.real > 2\n",
    "filtered_3_1 = array_3[condition_3_1]\n",
    "\n",
    "# 3.2 Im(z) <= Re(z)\n",
    "condition_3_2 = array_3.imag <= array_3.real\n",
    "filtered_3_2 = array_3[condition_3_2]\n",
    "\n",
    "print(\"\\nЗадача 3: Отбор элементов массива\")\n",
    "print(\"Элементы с Re(z) > 2:\", filtered_3_1)\n",
    "print(\"Элементы с Im(z) <= Re(z):\", filtered_3_2)"
   ]
  },
  {
   "cell_type": "markdown",
   "id": "f32460a5-ac0a-4b6b-ac42-b7501555db65",
   "metadata": {},
   "source": [
    "## Упражнение С4"
   ]
  },
  {
   "cell_type": "code",
   "execution_count": 12,
   "id": "2744e583-ba44-4cd0-bcd2-9fa0119b4cb3",
   "metadata": {},
   "outputs": [
    {
     "name": "stdout",
     "output_type": "stream",
     "text": [
      "\n",
      "Задача 4: Модификация массива\n",
      "Изменённый массив: [0.+0.j 0.+0.j 0.+0.j 0.+0.j 2.-5.j 2.-6.j 2.-7.j 2.-8.j 2.-9.j]\n"
     ]
    }
   ],
   "source": [
    "# Задача 4: Массив 2 - ki\n",
    "k = np.arange(1, 10)\n",
    "array_4 = 2 - k * 1j\n",
    "\n",
    "# Заменяем элементы с 2 < |z| <= 5 на 0\n",
    "condition_4 = (2 < abs(array_4)) & (abs(array_4) <= 5)\n",
    "array_4[condition_4] = 0\n",
    "\n",
    "print(\"\\nЗадача 4: Модификация массива\")\n",
    "print(\"Изменённый массив:\", array_4)"
   ]
  },
  {
   "cell_type": "markdown",
   "id": "e5678ff0-5d0a-4840-861b-28ad0977c77f",
   "metadata": {},
   "source": [
    "## Упражнение С5"
   ]
  },
  {
   "cell_type": "code",
   "execution_count": 14,
   "id": "034202fd-9b1d-4c78-9079-6a8af9f99580",
   "metadata": {},
   "outputs": [
    {
     "data": {
      "image/png": "[encoded data removed]",
      "text/plain": [
       "<Figure size 800x800 with 1 Axes>"
      ]
     },
     "metadata": {},
     "output_type": "display_data"
    }
   ],
   "source": [
    "# Задача 5: Построение множества точек\n",
    "# Условия: |Arg(z)| >= pi/4 и |z - 1| <= 2\n",
    "x, y = np.meshgrid(np.linspace(-3, 3, 300), np.linspace(-3, 3, 300))\n",
    "z = x + 1j * y\n",
    "arg_condition = np.abs(np.angle(z)) >= np.pi / 4\n",
    "circle_condition = np.abs(z - 1) <= 2\n",
    "final_condition = arg_condition & circle_condition\n",
    "\n",
    "# Визуализация\n",
    "plt.figure(figsize=(8, 8))\n",
    "plt.contourf(x, y, final_condition, levels=1, cmap=\"coolwarm\", alpha=0.7)\n",
    "plt.axhline(0, color='black', linewidth=1.2)\n",
    "plt.axvline(0, color='black', linewidth=1.2)\n",
    "plt.title(\"Множество точек |Arg(z)| >= π/4 и |z - 1| <= 2\")\n",
    "plt.gca().set_aspect('equal')\n",
    "plt.grid(True)\n",
    "plt.show()"
   ]
  }
 ],
 "metadata": {
  "kernelspec": {
   "display_name": "Python 3 (ipykernel)",
   "language": "python",
   "name": "python3"
  },
  "language_info": {
   "codemirror_mode": {
    "name": "ipython",
    "version": 3
   },
   "file_extension": ".py",
   "mimetype": "text/x-python",
   "name": "python",
   "nbconvert_exporter": "python",
   "pygments_lexer": "ipython3",
   "version": "3.12.4"
  }
 },
 "nbformat": 4,
 "nbformat_minor": 5
}
