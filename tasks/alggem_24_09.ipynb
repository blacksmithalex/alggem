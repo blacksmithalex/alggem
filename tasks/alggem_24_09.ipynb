{
 "cells": [
  {
   "cell_type": "markdown",
   "id": "3580a0d0-88ec-49fa-bb51-c104a3ff32cd",
   "metadata": {},
   "source": [
    "## Импорт библиотек"
   ]
  },
  {
   "cell_type": "code",
   "execution_count": 1,
   "id": "175b950f-0a43-4ac1-a8b3-cd1f7b6eb2e5",
   "metadata": {},
   "outputs": [],
   "source": [
    "from matplotlib import pyplot as plt\n",
    "import numpy as np "
   ]
  },
  {
   "cell_type": "markdown",
   "id": "12547713-5d76-4063-ab8b-f03018435050",
   "metadata": {},
   "source": [
    "## Отрисовка треугольника ABC"
   ]
  },
  {
   "cell_type": "code",
   "execution_count": 4,
   "id": "5f300f12-7251-481f-a147-d0b926ed1f01",
   "metadata": {},
   "outputs": [
    {
     "data": {
      "image/png": "[encoded data removed]",
      "text/plain": [
       "<Figure size 640x480 with 1 Axes>"
      ]
     },
     "metadata": {},
     "output_type": "display_data"
    }
   ],
   "source": [
    "A = (2, -2)\n",
    "B = (3, 5)\n",
    "C = (6, 1)\n",
    "\n",
    "# Координаты для сторон треугольника\n",
    "x_coords = [A[0], B[0], C[0], A[0]]  # Координаты X\n",
    "y_coords = [A[1], B[1], C[1], A[1]]  # Координаты Y\n",
    "\n",
    "# Создание фигуры\n",
    "plt.figure()\n",
    "\n",
    "# Рисуем стороны треугольника\n",
    "plt.plot(x_coords, y_coords, color='black')\n",
    "\n",
    "# Рисуем вершины треугольника красными точками\n",
    "plt.scatter([A[0], B[0], C[0]], [A[1], B[1], C[1]], color='red')\n",
    "\n",
    "# Подписываем вершины\n",
    "plt.text(A[0], A[1], 'A', fontsize=12, ha='right')\n",
    "plt.text(B[0], B[1], 'B', fontsize=12, ha='right')\n",
    "plt.text(C[0], C[1], 'C', fontsize=12, ha='right')\n",
    "\n",
    "# Настройки осей\n",
    "plt.xlim(0, 7)\n",
    "plt.ylim(-3, 6)\n",
    "plt.gca().set_aspect('equal', adjustable='box')\n",
    "\n",
    "# Показываем график\n",
    "plt.grid(True)\n",
    "plt.show()"
   ]
  },
  {
   "cell_type": "markdown",
   "id": "ccff4c48-53ef-474c-a07a-2f773c6ea9a8",
   "metadata": {},
   "source": [
    "## Определение высоты h"
   ]
  },
  {
   "cell_type": "code",
   "execution_count": 7,
   "id": "a0ba8cca-deea-4694-983a-73cffc6ae206",
   "metadata": {},
   "outputs": [
    {
     "name": "stdout",
     "output_type": "stream",
     "text": [
      "Скалярное произведение векторов AC и BC = 0\n"
     ]
    }
   ],
   "source": [
    "def dot_product(v1, v2):\n",
    "    return v1[0] * v2[0] + v1[1] * v2[1]\n",
    "AC = (4, 3)\n",
    "BC = (3, -4)\n",
    "print(f'Скалярное произведение векторов AC и BC = {dot_product(AC, BC)}')"
   ]
  },
  {
   "cell_type": "markdown",
   "id": "8a3edf77-cc4d-4cc3-9077-2bf1598c9b50",
   "metadata": {},
   "source": [
    "Так как скалярное проивезедние равно нулю, то вектора перпендикулярны и высота $h$ проходит через прямую BC."
   ]
  },
  {
   "cell_type": "markdown",
   "id": "2cfba8bc-1025-4217-833f-7dab1641f4f4",
   "metadata": {},
   "source": [
    "## Найти длину BH = BC"
   ]
  },
  {
   "cell_type": "code",
   "execution_count": 11,
   "id": "c8e92870-4ad4-45be-ac03-744200794897",
   "metadata": {},
   "outputs": [
    {
     "name": "stdout",
     "output_type": "stream",
     "text": [
      "|BH| = 5.0\n"
     ]
    }
   ],
   "source": [
    "from math import sqrt\n",
    "def distance(dot1, dot2):\n",
    "    dx = dot1[0] - dot2[0]\n",
    "    dy = dot1[1] - dot2[1]\n",
    "    return sqrt(dx**2 + dy**2)\n",
    "print(f'|BH| = {distance(B, C)}')"
   ]
  },
  {
   "cell_type": "markdown",
   "id": "66a7814a-b33f-4436-8eb1-eeef38583ccc",
   "metadata": {},
   "source": [
    "## Нахождение уравнения медианы AM"
   ]
  },
  {
   "cell_type": "code",
   "execution_count": 14,
   "id": "f4f139f4-fd55-4f32-ba0e-b2256e32b71d",
   "metadata": {},
   "outputs": [
    {
     "name": "stdout",
     "output_type": "stream",
     "text": [
      "Координаты точки M = (4.5, 3.0)\n"
     ]
    }
   ],
   "source": [
    "M = ((B[0] + C[0]) / 2, (B[1] + C[1]) / 2)\n",
    "print(f'Координаты точки M = {M}')"
   ]
  },
  {
   "cell_type": "code",
   "execution_count": 16,
   "id": "74ff0a1d-8b72-4f2d-9e41-823e84626f1e",
   "metadata": {},
   "outputs": [
    {
     "data": {
      "image/png": "[encoded data removed]",
      "text/plain": [
       "<Figure size 640x480 with 1 Axes>"
      ]
     },
     "metadata": {},
     "output_type": "display_data"
    }
   ],
   "source": [
    "A = (2, -2)\n",
    "B = (3, 5)\n",
    "C = (6, 1)\n",
    "\n",
    "# Координаты для сторон треугольника\n",
    "x_coords = [A[0], B[0], C[0], A[0]]  # Координаты X\n",
    "y_coords = [A[1], B[1], C[1], A[1]]  # Координаты Y\n",
    "\n",
    "# Создание фигуры\n",
    "plt.figure()\n",
    "\n",
    "# Рисуем стороны треугольника\n",
    "plt.plot(x_coords, y_coords, color='black')\n",
    "\n",
    "# Рисуем вершины треугольника красными точками\n",
    "plt.scatter([A[0], B[0], C[0], M[0]], [A[1], B[1], C[1], M[1]], color='red')\n",
    "\n",
    "# Подписываем вершины\n",
    "plt.text(A[0], A[1], 'A', fontsize=12, ha='right')\n",
    "plt.text(B[0], B[1], 'B', fontsize=12, ha='right')\n",
    "plt.text(C[0], C[1], 'C', fontsize=12, ha='right')\n",
    "plt.text(M[0], M[1], 'M', fontsize=12, ha='right')\n",
    "\n",
    "plt.plot([A[0], M[0]], [A[1], M[1]], color='blue', linestyle='--')\n",
    "\n",
    "# Настройки осей\n",
    "plt.xlim(0, 7)\n",
    "plt.ylim(-3, 6)\n",
    "plt.gca().set_aspect('equal', adjustable='box')\n",
    "\n",
    "# Показываем график\n",
    "plt.grid(True)\n",
    "plt.show()"
   ]
  },
  {
   "cell_type": "markdown",
   "id": "9f6b01c0-99f2-4930-b5e7-eeccbeceb84d",
   "metadata": {},
   "source": [
    "## Найти длину AM"
   ]
  },
  {
   "cell_type": "code",
   "execution_count": 19,
   "id": "da389868-93d2-46da-9439-8d084500e4d1",
   "metadata": {},
   "outputs": [
    {
     "name": "stdout",
     "output_type": "stream",
     "text": [
      "|AM| = 5.5901699437494745\n"
     ]
    }
   ],
   "source": [
    "print(f'|AM| = {distance(A, M)}')"
   ]
  },
  {
   "cell_type": "markdown",
   "id": "3c027e91-eab5-4b11-9a06-132fb6b5bcba",
   "metadata": {},
   "source": [
    "## Нахождение биссектрисы CL"
   ]
  },
  {
   "cell_type": "code",
   "execution_count": 22,
   "id": "e90fe04b-a9b9-43c8-bc8e-f7a755a0b9a5",
   "metadata": {},
   "outputs": [
    {
     "name": "stdout",
     "output_type": "stream",
     "text": [
      "|AC| = 5.0\n",
      "|BC| = 5.0\n"
     ]
    }
   ],
   "source": [
    "print(f'|AC| = {distance(A, C)}')\n",
    "print(f'|BC| = {distance(B, C)}')"
   ]
  },
  {
   "cell_type": "markdown",
   "id": "dace9a6f-b61a-4920-98bb-1c3e1ee85b07",
   "metadata": {},
   "source": [
    "Таким образом, треугольник является не только прямоугольным, но и равнобедренным. Значит медиана $CL$ будет являться и биссектрисой угла C. "
   ]
  },
  {
   "cell_type": "code",
   "execution_count": 25,
   "id": "22e5c36e-2e5d-4846-a99d-177538464a56",
   "metadata": {},
   "outputs": [],
   "source": [
    "L = ((A[0] + B[0]) / 2, (A[1] + B[1]) / 2)"
   ]
  },
  {
   "cell_type": "code",
   "execution_count": 27,
   "id": "b13ff036-26f4-4dce-8657-340003b5e2a5",
   "metadata": {},
   "outputs": [
    {
     "data": {
      "image/png": "[encoded data removed]",
      "text/plain": [
       "<Figure size 640x480 with 1 Axes>"
      ]
     },
     "metadata": {},
     "output_type": "display_data"
    }
   ],
   "source": [
    "A = (2, -2)\n",
    "B = (3, 5)\n",
    "C = (6, 1)\n",
    "\n",
    "# Координаты для сторон треугольника\n",
    "x_coords = [A[0], B[0], C[0], A[0]]  # Координаты X\n",
    "y_coords = [A[1], B[1], C[1], A[1]]  # Координаты Y\n",
    "\n",
    "# Создание фигуры\n",
    "plt.figure()\n",
    "\n",
    "# Рисуем стороны треугольника\n",
    "plt.plot(x_coords, y_coords, color='black')\n",
    "\n",
    "# Рисуем вершины треугольника красными точками\n",
    "plt.scatter([A[0], B[0], C[0], L[0]], [A[1], B[1], C[1], L[1]], color='red')\n",
    "\n",
    "# Подписываем вершины\n",
    "plt.text(A[0], A[1], 'A', fontsize=12, ha='right')\n",
    "plt.text(B[0], B[1], 'B', fontsize=12, ha='right')\n",
    "plt.text(C[0], C[1], 'C', fontsize=12, ha='right')\n",
    "plt.text(L[0], L[1], 'L', fontsize=12, ha='right')\n",
    "\n",
    "plt.plot([C[0], L[0]], [C[1], L[1]], color='orange', linestyle='--')\n",
    "\n",
    "# Настройки осей\n",
    "plt.xlim(0, 7)\n",
    "plt.ylim(-3, 6)\n",
    "plt.gca().set_aspect('equal', adjustable='box')\n",
    "\n",
    "# Показываем график\n",
    "plt.grid(True)\n",
    "plt.show()"
   ]
  },
  {
   "cell_type": "markdown",
   "id": "1be21076-f6aa-459d-99f2-ab13c82e1609",
   "metadata": {},
   "source": [
    "## Нахождение длины CL"
   ]
  },
  {
   "cell_type": "code",
   "execution_count": 30,
   "id": "83914bc1-b17b-45c9-92ad-3bff64004a66",
   "metadata": {},
   "outputs": [
    {
     "name": "stdout",
     "output_type": "stream",
     "text": [
      "|CL| = 3.5355339059327378\n"
     ]
    }
   ],
   "source": [
    "print(f'|CL| = {distance(C, L)}')"
   ]
  },
  {
   "cell_type": "markdown",
   "id": "f1ea05ee-54ed-4a8b-93b8-03f455ad08b7",
   "metadata": {},
   "source": [
    "## Обозначим CL, AM, BH на одном рисунке"
   ]
  },
  {
   "cell_type": "code",
   "execution_count": 33,
   "id": "be3eecff-1be9-4afa-a78b-43a32a36b30c",
   "metadata": {},
   "outputs": [
    {
     "data": {
      "image/png": "[encoded data removed]",
      "text/plain": [
       "<Figure size 640x480 with 1 Axes>"
      ]
     },
     "metadata": {},
     "output_type": "display_data"
    }
   ],
   "source": [
    "A = (2, -2)\n",
    "B = (3, 5)\n",
    "C = (6, 1)\n",
    "\n",
    "# Координаты для сторон треугольника\n",
    "x_coords = [A[0], B[0], C[0], A[0]]  # Координаты X\n",
    "y_coords = [A[1], B[1], C[1], A[1]]  # Координаты Y\n",
    "\n",
    "# Создание фигуры\n",
    "plt.figure()\n",
    "\n",
    "# Рисуем стороны треугольника\n",
    "plt.plot(x_coords, y_coords, color='black')\n",
    "\n",
    "# Рисуем вершины треугольника красными точками\n",
    "plt.scatter([A[0], B[0], C[0], L[0], M[0]], [A[1], B[1], C[1], L[1], M[1]], color='red')\n",
    "\n",
    "# Подписываем вершины\n",
    "plt.text(A[0], A[1], 'A', fontsize=12, ha='right')\n",
    "plt.text(B[0], B[1], 'B', fontsize=12, ha='right')\n",
    "plt.text(C[0], C[1], 'C', fontsize=12, ha='right')\n",
    "plt.text(L[0], L[1], 'L', fontsize=12, ha='right')\n",
    "plt.text(M[0], M[1], 'M', fontsize=12, ha='right')\n",
    "\n",
    "plt.plot([C[0], L[0]], [C[1], L[1]], color='orange', linestyle='--')\n",
    "plt.plot([A[0], M[0]], [A[1], M[1]], color='blue', linestyle='--')\n",
    "plt.plot([B[0], C[0]], [B[1], C[1]], color='red')\n",
    "\n",
    "# Настройки осей\n",
    "plt.xlim(0, 7)\n",
    "plt.ylim(-3, 6)\n",
    "plt.gca().set_aspect('equal', adjustable='box')\n",
    "\n",
    "# Показываем график\n",
    "plt.grid(True)\n",
    "plt.show()"
   ]
  }
 ],
 "metadata": {
  "kernelspec": {
   "display_name": "Python 3 (ipykernel)",
   "language": "python",
   "name": "python3"
  },
  "language_info": {
   "codemirror_mode": {
    "name": "ipython",
    "version": 3
   },
   "file_extension": ".py",
   "mimetype": "text/x-python",
   "name": "python",
   "nbconvert_exporter": "python",
   "pygments_lexer": "ipython3",
   "version": "3.12.4"
  }
 },
 "nbformat": 4,
 "nbformat_minor": 5
}
